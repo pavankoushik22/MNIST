{
  "nbformat": 4,
  "nbformat_minor": 0,
  "metadata": {
    "colab": {
      "name": "mnist.ipynb",
      "version": "0.3.2",
      "views": {},
      "default_view": {},
      "provenance": []
    },
    "kernelspec": {
      "name": "python3",
      "display_name": "Python 3"
    },
    "accelerator": "GPU"
  },
  "cells": [
    {
      "metadata": {
        "id": "UW3mrK464ZPq",
        "colab_type": "code",
        "colab": {
          "autoexec": {
            "startup": false,
            "wait_interval": 0
          }
        }
      },
      "cell_type": "code",
      "source": [
        "import pandas as pd\n",
        "import numpy as np\n",
        "import matplotlib.pyplot as plt\n",
        "import matplotlib.image as mpimg\n",
        "import seaborn as sns\n",
        "%matplotlib inline\n",
        "\n",
        "np.random.seed(2)\n",
        "\n",
        "from sklearn.model_selection import train_test_split\n",
        "from sklearn.metrics import confusion_matrix\n",
        "import itertools\n",
        "\n",
        "from keras.utils.np_utils import to_categorical # convert to one-hot-encoding\n",
        "from keras.models import Sequential\n",
        "from keras.layers import Dense, Dropout, Flatten, Conv2D, MaxPool2D\n",
        "from keras.optimizers import RMSprop\n",
        "from keras.preprocessing.image import ImageDataGenerator\n",
        "from keras.callbacks import LearningRateScheduler"
      ],
      "execution_count": 0,
      "outputs": []
    },
    {
      "metadata": {
        "id": "J5ShQRtB4est",
        "colab_type": "code",
        "colab": {
          "autoexec": {
            "startup": false,
            "wait_interval": 0
          }
        }
      },
      "cell_type": "code",
      "source": [
        "train = pd.read_csv(\"train.csv\")\n",
        "test = pd.read_csv(\"test.csv\")"
      ],
      "execution_count": 0,
      "outputs": []
    },
    {
      "metadata": {
        "id": "TMfcHfRv5iuw",
        "colab_type": "code",
        "colab": {
          "autoexec": {
            "startup": false,
            "wait_interval": 0
          },
          "base_uri": "https://localhost:8080/",
          "height": 334
        },
        "outputId": "df337850-ad5a-4a23-f307-a3fa8ce1c986",
        "executionInfo": {
          "status": "ok",
          "timestamp": 1526710217437,
          "user_tz": -330,
          "elapsed": 2369,
          "user": {
            "displayName": "pavan koushik",
            "photoUrl": "//lh4.googleusercontent.com/-B7Qat30nZ-c/AAAAAAAAAAI/AAAAAAAABLI/njbcH5_YS9o/s50-c-k-no/photo.jpg",
            "userId": "103800086303446173219"
          }
        }
      },
      "cell_type": "code",
      "source": [
        "trainy = train[\"label\"]\n",
        "trainx = train.drop(labels = [\"label\"], axis = 1)\n",
        "g = sns.countplot(trainy)"
      ],
      "execution_count": 34,
      "outputs": [
        {
          "output_type": "stream",
          "text": [
            "/usr/local/lib/python3.6/dist-packages/seaborn/categorical.py:1428: FutureWarning: remove_na is deprecated and is a private function. Do not use.\n",
            "  stat_data = remove_na(group_data)\n"
          ],
          "name": "stderr"
        },
        {
          "output_type": "display_data",
          "data": {
            "image/png": "[encoded data removed]",
            "text/plain": [
              "<matplotlib.figure.Figure at 0x7f787cf4bdd8>"
            ]
          },
          "metadata": {
            "tags": []
          }
        }
      ]
    },
    {
      "metadata": {
        "id": "m5BFWql46K2X",
        "colab_type": "code",
        "colab": {
          "autoexec": {
            "startup": false,
            "wait_interval": 0
          },
          "base_uri": "https://localhost:8080/",
          "height": 208
        },
        "outputId": "44f16174-c587-4f54-8a47-e3fb51c6b743",
        "executionInfo": {
          "status": "ok",
          "timestamp": 1526710220570,
          "user_tz": -330,
          "elapsed": 918,
          "user": {
            "displayName": "pavan koushik",
            "photoUrl": "//lh4.googleusercontent.com/-B7Qat30nZ-c/AAAAAAAAAAI/AAAAAAAABLI/njbcH5_YS9o/s50-c-k-no/photo.jpg",
            "userId": "103800086303446173219"
          }
        }
      },
      "cell_type": "code",
      "source": [
        "trainy.value_counts()"
      ],
      "execution_count": 35,
      "outputs": [
        {
          "output_type": "execute_result",
          "data": {
            "text/plain": [
              "1    4684\n",
              "7    4401\n",
              "3    4351\n",
              "9    4188\n",
              "2    4177\n",
              "6    4137\n",
              "0    4132\n",
              "4    4072\n",
              "8    4063\n",
              "5    3795\n",
              "Name: label, dtype: int64"
            ]
          },
          "metadata": {
            "tags": []
          },
          "execution_count": 35
        }
      ]
    },
    {
      "metadata": {
        "id": "MqapmTn66QNw",
        "colab_type": "code",
        "colab": {
          "autoexec": {
            "startup": false,
            "wait_interval": 0
          },
          "base_uri": "https://localhost:8080/",
          "height": 104
        },
        "outputId": "e5b90268-5dc2-4bef-979c-8589c53ffb85",
        "executionInfo": {
          "status": "ok",
          "timestamp": 1526710223145,
          "user_tz": -330,
          "elapsed": 1783,
          "user": {
            "displayName": "pavan koushik",
            "photoUrl": "//lh4.googleusercontent.com/-B7Qat30nZ-c/AAAAAAAAAAI/AAAAAAAABLI/njbcH5_YS9o/s50-c-k-no/photo.jpg",
            "userId": "103800086303446173219"
          }
        }
      },
      "cell_type": "code",
      "source": [
        "trainx.isnull().any().describe()"
      ],
      "execution_count": 36,
      "outputs": [
        {
          "output_type": "execute_result",
          "data": {
            "text/plain": [
              "count       784\n",
              "unique        1\n",
              "top       False\n",
              "freq        784\n",
              "dtype: object"
            ]
          },
          "metadata": {
            "tags": []
          },
          "execution_count": 36
        }
      ]
    },
    {
      "metadata": {
        "id": "VyRqjjqB6WZl",
        "colab_type": "code",
        "colab": {
          "autoexec": {
            "startup": false,
            "wait_interval": 0
          }
        }
      },
      "cell_type": "code",
      "source": [
        "trainx /= 255\n",
        "test /= 255"
      ],
      "execution_count": 0,
      "outputs": []
    },
    {
      "metadata": {
        "id": "-Zk2Hdrs6iFP",
        "colab_type": "code",
        "colab": {
          "autoexec": {
            "startup": false,
            "wait_interval": 0
          }
        }
      },
      "cell_type": "code",
      "source": [
        "trainx = trainx.values.reshape(-1, 28, 28, 1)\n",
        "test = test.values.reshape(-1, 28, 28, 1)"
      ],
      "execution_count": 0,
      "outputs": []
    },
    {
      "metadata": {
        "id": "7V1bZ6u16q7Z",
        "colab_type": "code",
        "colab": {
          "autoexec": {
            "startup": false,
            "wait_interval": 0
          }
        }
      },
      "cell_type": "code",
      "source": [
        "trainy = to_categorical(trainy, num_classes = 10)"
      ],
      "execution_count": 0,
      "outputs": []
    },
    {
      "metadata": {
        "id": "LvCP734463V7",
        "colab_type": "code",
        "colab": {
          "autoexec": {
            "startup": false,
            "wait_interval": 0
          }
        }
      },
      "cell_type": "code",
      "source": [
        "seed = 10"
      ],
      "execution_count": 0,
      "outputs": []
    },
    {
      "metadata": {
        "id": "Sz5Dkwox65DW",
        "colab_type": "code",
        "colab": {
          "autoexec": {
            "startup": false,
            "wait_interval": 0
          }
        }
      },
      "cell_type": "code",
      "source": [
        "trainx, valx, trainy, valy = train_test_split(trainx, trainy, test_size = 0.1, random_state = seed)"
      ],
      "execution_count": 0,
      "outputs": []
    },
    {
      "metadata": {
        "id": "q-JmLC9n7QvZ",
        "colab_type": "code",
        "colab": {
          "autoexec": {
            "startup": false,
            "wait_interval": 0
          },
          "base_uri": "https://localhost:8080/",
          "height": 265
        },
        "outputId": "44e19112-266f-4272-cf0e-ece44cdee115",
        "executionInfo": {
          "status": "ok",
          "timestamp": 1526710237356,
          "user_tz": -330,
          "elapsed": 981,
          "user": {
            "displayName": "pavan koushik",
            "photoUrl": "//lh4.googleusercontent.com/-B7Qat30nZ-c/AAAAAAAAAAI/AAAAAAAABLI/njbcH5_YS9o/s50-c-k-no/photo.jpg",
            "userId": "103800086303446173219"
          }
        }
      },
      "cell_type": "code",
      "source": [
        "g = plt.imshow(trainx[1][:,:,0])"
      ],
      "execution_count": 42,
      "outputs": [
        {
          "output_type": "display_data",
          "data": {
            "image/png": "[encoded data removed]",
            "text/plain": [
              "<matplotlib.figure.Figure at 0x7f787cf218d0>"
            ]
          },
          "metadata": {
            "tags": []
          }
        }
      ]
    },
    {
      "metadata": {
        "id": "ERMjvG8S7Ub7",
        "colab_type": "code",
        "colab": {
          "autoexec": {
            "startup": false,
            "wait_interval": 0
          }
        }
      },
      "cell_type": "code",
      "source": [
        "model = Sequential()\n",
        "model.add(Conv2D(filters = 32, kernel_size = (5,5), padding = \"same\", activation = \"relu\", input_shape=(28,28,1)))\n",
        "model.add(Conv2D(filters = 32, kernel_size = (5,5), padding = \"same\", activation = \"relu\"))\n",
        "model.add(MaxPool2D(pool_size=(2,2)))\n",
        "model.add(Dropout(0.25))\n",
        "model.add(Conv2D(filters = 64, kernel_size = (3,3), padding = \"same\", activation = \"relu\"))\n",
        "model.add(Conv2D(filters = 64, kernel_size = (3,3), padding = \"same\", activation = \"relu\"))\n",
        "model.add(MaxPool2D(pool_size=(2,2),strides = (2,2)))\n",
        "model.add(Dropout(0.5))\n",
        "model.add(Flatten())\n",
        "model.add(Dense(256, activation = \"relu\"))\n",
        "model.add(Dropout(0.5))\n",
        "model.add(Dense(10, activation = 'softmax'))\n"
      ],
      "execution_count": 0,
      "outputs": []
    },
    {
      "metadata": {
        "id": "7qI8EjQX9eo-",
        "colab_type": "code",
        "colab": {
          "autoexec": {
            "startup": false,
            "wait_interval": 0
          }
        }
      },
      "cell_type": "code",
      "source": [
        "optimizer = RMSprop(lr = 0.001)\n",
        "model.compile(optimizer = optimizer, loss = \"categorical_crossentropy\", metrics = [\"accuracy\"])\n"
      ],
      "execution_count": 0,
      "outputs": []
    },
    {
      "metadata": {
        "id": "32FdlD_p-7Vq",
        "colab_type": "code",
        "colab": {
          "autoexec": {
            "startup": false,
            "wait_interval": 0
          }
        }
      },
      "cell_type": "code",
      "source": [
        "epochs = 5\n",
        "batch_size = 64\n",
        "annealer = LearningRateScheduler(lambda x: 1e-3 * 0.9 ** x)\n",
        "datagen = ImageDataGenerator(zoom_range = 0.1,height_shift_range = 0.1,width_shift_range = 0.1,rotation_range = 10)\n"
      ],
      "execution_count": 0,
      "outputs": []
    },
    {
      "metadata": {
        "id": "47-1W8CrA6mp",
        "colab_type": "code",
        "colab": {
          "autoexec": {
            "startup": false,
            "wait_interval": 0
          },
          "base_uri": "https://localhost:8080/",
          "height": 191
        },
        "outputId": "e194f764-765d-432b-e154-a212bc929efc",
        "executionInfo": {
          "status": "ok",
          "timestamp": 1526710379420,
          "user_tz": -330,
          "elapsed": 87580,
          "user": {
            "displayName": "pavan koushik",
            "photoUrl": "//lh4.googleusercontent.com/-B7Qat30nZ-c/AAAAAAAAAAI/AAAAAAAABLI/njbcH5_YS9o/s50-c-k-no/photo.jpg",
            "userId": "103800086303446173219"
          }
        }
      },
      "cell_type": "code",
      "source": [
        "hist = model.fit_generator(datagen.flow(trainx, trainy,batch_size = batch_size), epochs = epochs, validation_data = (valx, valy), verbose = 2, steps_per_epoch = trainx.shape[0]//batch_size, callbacks = [annealer])"
      ],
      "execution_count": 47,
      "outputs": [
        {
          "output_type": "stream",
          "text": [
            "Epoch 1/5\n",
            " - 18s - loss: 0.4274 - acc: 0.8615 - val_loss: 0.0741 - val_acc: 0.9748\n",
            "Epoch 2/5\n",
            " - 17s - loss: 0.1372 - acc: 0.9583 - val_loss: 0.0515 - val_acc: 0.9838\n",
            "Epoch 3/5\n",
            " - 17s - loss: 0.1064 - acc: 0.9690 - val_loss: 0.0323 - val_acc: 0.9860\n",
            "Epoch 4/5\n",
            " - 17s - loss: 0.0871 - acc: 0.9748 - val_loss: 0.0273 - val_acc: 0.9912\n",
            "Epoch 5/5\n",
            " - 17s - loss: 0.0819 - acc: 0.9760 - val_loss: 0.0291 - val_acc: 0.9893\n"
          ],
          "name": "stdout"
        }
      ]
    },
    {
      "metadata": {
        "id": "YuzcqfakBgFu",
        "colab_type": "code",
        "colab": {
          "autoexec": {
            "startup": false,
            "wait_interval": 0
          },
          "base_uri": "https://localhost:8080/",
          "height": 283
        },
        "outputId": "b77436bd-0e03-4e38-e901-8216425eb3b7",
        "executionInfo": {
          "status": "ok",
          "timestamp": 1526710931320,
          "user_tz": -330,
          "elapsed": 967,
          "user": {
            "displayName": "pavan koushik",
            "photoUrl": "//lh4.googleusercontent.com/-B7Qat30nZ-c/AAAAAAAAAAI/AAAAAAAABLI/njbcH5_YS9o/s50-c-k-no/photo.jpg",
            "userId": "103800086303446173219"
          }
        }
      },
      "cell_type": "code",
      "source": [
        "plt.plot(hist.history[\"acc\"])"
      ],
      "execution_count": 50,
      "outputs": [
        {
          "output_type": "execute_result",
          "data": {
            "text/plain": [
              "[<matplotlib.lines.Line2D at 0x7f78732320f0>]"
            ]
          },
          "metadata": {
            "tags": []
          },
          "execution_count": 50
        },
        {
          "output_type": "display_data",
          "data": {
            "image/png": "[encoded data removed]",
            "text/plain": [
              "<matplotlib.figure.Figure at 0x7f787a2bb780>"
            ]
          },
          "metadata": {
            "tags": []
          }
        }
      ]
    },
    {
      "metadata": {
        "id": "VT2nFwb5D6wD",
        "colab_type": "code",
        "colab": {
          "autoexec": {
            "startup": false,
            "wait_interval": 0
          }
        }
      },
      "cell_type": "code",
      "source": [
        "yhat = model.predict(valx)"
      ],
      "execution_count": 0,
      "outputs": []
    },
    {
      "metadata": {
        "id": "fop2JsqkET2j",
        "colab_type": "code",
        "colab": {
          "autoexec": {
            "startup": false,
            "wait_interval": 0
          }
        }
      },
      "cell_type": "code",
      "source": [
        "ypred = np.argmax(yhat, axis = 1)\n",
        "ytrue = np.argmax(valy, axis = 1)\n",
        "cm = confusion_matrix(ytrue, ypred)"
      ],
      "execution_count": 0,
      "outputs": []
    },
    {
      "metadata": {
        "id": "jls-gASJEhvJ",
        "colab_type": "code",
        "colab": {
          "autoexec": {
            "startup": false,
            "wait_interval": 0
          },
          "base_uri": "https://localhost:8080/",
          "height": 191
        },
        "outputId": "233e3f7e-efae-451a-834f-9ff009727275",
        "executionInfo": {
          "status": "ok",
          "timestamp": 1526711073969,
          "user_tz": -330,
          "elapsed": 923,
          "user": {
            "displayName": "pavan koushik",
            "photoUrl": "//lh4.googleusercontent.com/-B7Qat30nZ-c/AAAAAAAAAAI/AAAAAAAABLI/njbcH5_YS9o/s50-c-k-no/photo.jpg",
            "userId": "103800086303446173219"
          }
        }
      },
      "cell_type": "code",
      "source": [
        "print(cm)"
      ],
      "execution_count": 53,
      "outputs": [
        {
          "output_type": "stream",
          "text": [
            "[[412   0   0   0   0   0   1   0   2   0]\n",
            " [  0 461   4   1   1   0   0   0   1   0]\n",
            " [  0   0 431   0   0   0   0   1   0   0]\n",
            " [  0   0   2 435   0   2   0   1   3   0]\n",
            " [  0   1   0   0 389   0   1   0   0   5]\n",
            " [  0   0   0   2   0 388   1   0   1   0]\n",
            " [  0   0   0   0   1   1 374   0   0   0]\n",
            " [  0   0   1   0   0   0   0 437   0   0]\n",
            " [  0   0   2   0   0   0   2   0 418   1]\n",
            " [  2   0   0   0   2   0   0   2   1 410]]\n"
          ],
          "name": "stdout"
        }
      ]
    },
    {
      "metadata": {
        "id": "U7bzmbJuEjg_",
        "colab_type": "code",
        "colab": {
          "autoexec": {
            "startup": false,
            "wait_interval": 0
          }
        }
      },
      "cell_type": "code",
      "source": [
        ""
      ],
      "execution_count": 0,
      "outputs": []
    }
  ]
}